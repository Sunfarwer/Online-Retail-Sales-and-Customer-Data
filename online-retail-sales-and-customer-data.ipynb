{
 "cells": [
  {
   "cell_type": "code",
   "execution_count": 1,
   "id": "e800b801",
   "metadata": {
    "_cell_guid": "b1076dfc-b9ad-4769-8c92-a6c4dae69d19",
    "_uuid": "8f2839f25d086af736a60e9eeb907d3b93b6e0e5",
    "execution": {
     "iopub.execute_input": "2024-01-13T13:50:20.614470Z",
     "iopub.status.busy": "2024-01-13T13:50:20.613668Z",
     "iopub.status.idle": "2024-01-13T13:50:22.396583Z",
     "shell.execute_reply": "2024-01-13T13:50:22.395324Z"
    },
    "papermill": {
     "duration": 1.796252,
     "end_time": "2024-01-13T13:50:22.399422",
     "exception": false,
     "start_time": "2024-01-13T13:50:20.603170",
     "status": "completed"
    },
    "tags": []
   },
   "outputs": [],
   "source": [
    "import numpy as np # linear algebra\n",
    "import pandas as pd # data processing, CSV file I/O (e.g. pd.read_csv)\n",
    "import seaborn as sns\n",
    "import matplotlib.pyplot as plt"
   ]
  },
  {
   "cell_type": "code",
   "execution_count": 2,
   "id": "373c12ed",
   "metadata": {
    "execution": {
     "iopub.execute_input": "2024-01-13T13:50:22.418282Z",
     "iopub.status.busy": "2024-01-13T13:50:22.417677Z",
     "iopub.status.idle": "2024-01-13T13:50:24.093942Z",
     "shell.execute_reply": "2024-01-13T13:50:24.092601Z"
    },
    "papermill": {
     "duration": 1.689352,
     "end_time": "2024-01-13T13:50:24.097227",
     "exception": false,
     "start_time": "2024-01-13T13:50:22.407875",
     "status": "completed"
    },
    "tags": []
   },
   "outputs": [],
   "source": [
    "online_retail = pd.read_csv('/kaggle/input/online-retail-sales-and-customer-data/online_retail.csv')"
   ]
  },
  {
   "cell_type": "code",
   "execution_count": 3,
   "id": "6348b45d",
   "metadata": {
    "execution": {
     "iopub.execute_input": "2024-01-13T13:50:24.117121Z",
     "iopub.status.busy": "2024-01-13T13:50:24.116569Z",
     "iopub.status.idle": "2024-01-13T13:50:24.128258Z",
     "shell.execute_reply": "2024-01-13T13:50:24.127132Z"
    },
    "papermill": {
     "duration": 0.025253,
     "end_time": "2024-01-13T13:50:24.130793",
     "exception": false,
     "start_time": "2024-01-13T13:50:24.105540",
     "status": "completed"
    },
    "tags": []
   },
   "outputs": [
    {
     "data": {
      "text/plain": [
       "Index(['index', 'InvoiceNo', 'StockCode', 'Description', 'Quantity',\n",
       "       'InvoiceDate', 'UnitPrice', 'CustomerID', 'Country'],\n",
       "      dtype='object')"
      ]
     },
     "execution_count": 3,
     "metadata": {},
     "output_type": "execute_result"
    }
   ],
   "source": [
    "online_retail.columns"
   ]
  },
  {
   "cell_type": "code",
   "execution_count": 4,
   "id": "61a1c630",
   "metadata": {
    "execution": {
     "iopub.execute_input": "2024-01-13T13:50:24.149938Z",
     "iopub.status.busy": "2024-01-13T13:50:24.149540Z",
     "iopub.status.idle": "2024-01-13T13:50:24.156484Z",
     "shell.execute_reply": "2024-01-13T13:50:24.155339Z"
    },
    "papermill": {
     "duration": 0.019511,
     "end_time": "2024-01-13T13:50:24.159015",
     "exception": false,
     "start_time": "2024-01-13T13:50:24.139504",
     "status": "completed"
    },
    "tags": []
   },
   "outputs": [
    {
     "data": {
      "text/plain": [
       "(541909, 9)"
      ]
     },
     "execution_count": 4,
     "metadata": {},
     "output_type": "execute_result"
    }
   ],
   "source": [
    "online_retail.shape"
   ]
  },
  {
   "cell_type": "code",
   "execution_count": 5,
   "id": "d8e98075",
   "metadata": {
    "execution": {
     "iopub.execute_input": "2024-01-13T13:50:24.178313Z",
     "iopub.status.busy": "2024-01-13T13:50:24.177907Z",
     "iopub.status.idle": "2024-01-13T13:50:24.492220Z",
     "shell.execute_reply": "2024-01-13T13:50:24.490629Z"
    },
    "papermill": {
     "duration": 0.328348,
     "end_time": "2024-01-13T13:50:24.495949",
     "exception": false,
     "start_time": "2024-01-13T13:50:24.167601",
     "status": "completed"
    },
    "tags": []
   },
   "outputs": [
    {
     "name": "stdout",
     "output_type": "stream",
     "text": [
      "<class 'pandas.core.frame.DataFrame'>\n",
      "RangeIndex: 541909 entries, 0 to 541908\n",
      "Data columns (total 9 columns):\n",
      " #   Column       Non-Null Count   Dtype  \n",
      "---  ------       --------------   -----  \n",
      " 0   index        541909 non-null  int64  \n",
      " 1   InvoiceNo    541909 non-null  object \n",
      " 2   StockCode    541909 non-null  object \n",
      " 3   Description  540455 non-null  object \n",
      " 4   Quantity     541909 non-null  int64  \n",
      " 5   InvoiceDate  541909 non-null  object \n",
      " 6   UnitPrice    541909 non-null  float64\n",
      " 7   CustomerID   406829 non-null  float64\n",
      " 8   Country      541909 non-null  object \n",
      "dtypes: float64(2), int64(2), object(5)\n",
      "memory usage: 37.2+ MB\n"
     ]
    }
   ],
   "source": [
    "online_retail.info()"
   ]
  },
  {
   "cell_type": "code",
   "execution_count": 6,
   "id": "b58ca678",
   "metadata": {
    "execution": {
     "iopub.execute_input": "2024-01-13T13:50:24.515888Z",
     "iopub.status.busy": "2024-01-13T13:50:24.515483Z",
     "iopub.status.idle": "2024-01-13T13:50:24.881154Z",
     "shell.execute_reply": "2024-01-13T13:50:24.880113Z"
    },
    "papermill": {
     "duration": 0.379196,
     "end_time": "2024-01-13T13:50:24.884236",
     "exception": false,
     "start_time": "2024-01-13T13:50:24.505040",
     "status": "completed"
    },
    "tags": []
   },
   "outputs": [],
   "source": [
    "#drop the rows with NaN values and store the version into newer variable\n",
    "online_retail.dropna(inplace=True, axis=0)\n",
    "\n",
    "#reset index\n",
    "online_retail = online_retail.reset_index(drop=True)"
   ]
  },
  {
   "cell_type": "code",
   "execution_count": 7,
   "id": "f6fe2431",
   "metadata": {
    "execution": {
     "iopub.execute_input": "2024-01-13T13:50:24.903620Z",
     "iopub.status.busy": "2024-01-13T13:50:24.903187Z",
     "iopub.status.idle": "2024-01-13T13:50:25.123240Z",
     "shell.execute_reply": "2024-01-13T13:50:25.122122Z"
    },
    "papermill": {
     "duration": 0.232959,
     "end_time": "2024-01-13T13:50:25.126038",
     "exception": false,
     "start_time": "2024-01-13T13:50:24.893079",
     "status": "completed"
    },
    "tags": []
   },
   "outputs": [
    {
     "name": "stdout",
     "output_type": "stream",
     "text": [
      "<class 'pandas.core.frame.DataFrame'>\n",
      "RangeIndex: 406829 entries, 0 to 406828\n",
      "Data columns (total 9 columns):\n",
      " #   Column       Non-Null Count   Dtype  \n",
      "---  ------       --------------   -----  \n",
      " 0   index        406829 non-null  int64  \n",
      " 1   InvoiceNo    406829 non-null  object \n",
      " 2   StockCode    406829 non-null  object \n",
      " 3   Description  406829 non-null  object \n",
      " 4   Quantity     406829 non-null  int64  \n",
      " 5   InvoiceDate  406829 non-null  object \n",
      " 6   UnitPrice    406829 non-null  float64\n",
      " 7   CustomerID   406829 non-null  float64\n",
      " 8   Country      406829 non-null  object \n",
      "dtypes: float64(2), int64(2), object(5)\n",
      "memory usage: 27.9+ MB\n"
     ]
    }
   ],
   "source": [
    "online_retail.info()"
   ]
  },
  {
   "cell_type": "code",
   "execution_count": 8,
   "id": "d98b81ab",
   "metadata": {
    "execution": {
     "iopub.execute_input": "2024-01-13T13:50:25.146231Z",
     "iopub.status.busy": "2024-01-13T13:50:25.145258Z",
     "iopub.status.idle": "2024-01-13T13:50:25.253962Z",
     "shell.execute_reply": "2024-01-13T13:50:25.252812Z"
    },
    "papermill": {
     "duration": 0.121541,
     "end_time": "2024-01-13T13:50:25.256516",
     "exception": false,
     "start_time": "2024-01-13T13:50:25.134975",
     "status": "completed"
    },
    "tags": []
   },
   "outputs": [
    {
     "data": {
      "text/html": [
       "<div>\n",
       "<style scoped>\n",
       "    .dataframe tbody tr th:only-of-type {\n",
       "        vertical-align: middle;\n",
       "    }\n",
       "\n",
       "    .dataframe tbody tr th {\n",
       "        vertical-align: top;\n",
       "    }\n",
       "\n",
       "    .dataframe thead th {\n",
       "        text-align: right;\n",
       "    }\n",
       "</style>\n",
       "<table border=\"1\" class=\"dataframe\">\n",
       "  <thead>\n",
       "    <tr style=\"text-align: right;\">\n",
       "      <th></th>\n",
       "      <th>index</th>\n",
       "      <th>InvoiceNo</th>\n",
       "      <th>StockCode</th>\n",
       "      <th>Description</th>\n",
       "      <th>Quantity</th>\n",
       "      <th>InvoiceDate</th>\n",
       "      <th>UnitPrice</th>\n",
       "      <th>CustomerID</th>\n",
       "      <th>Country</th>\n",
       "    </tr>\n",
       "  </thead>\n",
       "  <tbody>\n",
       "    <tr>\n",
       "      <th>0</th>\n",
       "      <td>0</td>\n",
       "      <td>536365</td>\n",
       "      <td>85123A</td>\n",
       "      <td>WHITE HANGING HEART T-LIGHT HOLDER</td>\n",
       "      <td>6</td>\n",
       "      <td>12/1/2010 8:26</td>\n",
       "      <td>2.55</td>\n",
       "      <td>17850.0</td>\n",
       "      <td>United Kingdom</td>\n",
       "    </tr>\n",
       "    <tr>\n",
       "      <th>1</th>\n",
       "      <td>1</td>\n",
       "      <td>536365</td>\n",
       "      <td>71053</td>\n",
       "      <td>WHITE METAL LANTERN</td>\n",
       "      <td>6</td>\n",
       "      <td>12/1/2010 8:26</td>\n",
       "      <td>3.39</td>\n",
       "      <td>17850.0</td>\n",
       "      <td>United Kingdom</td>\n",
       "    </tr>\n",
       "    <tr>\n",
       "      <th>2</th>\n",
       "      <td>2</td>\n",
       "      <td>536365</td>\n",
       "      <td>84406B</td>\n",
       "      <td>CREAM CUPID HEARTS COAT HANGER</td>\n",
       "      <td>8</td>\n",
       "      <td>12/1/2010 8:26</td>\n",
       "      <td>2.75</td>\n",
       "      <td>17850.0</td>\n",
       "      <td>United Kingdom</td>\n",
       "    </tr>\n",
       "    <tr>\n",
       "      <th>3</th>\n",
       "      <td>3</td>\n",
       "      <td>536365</td>\n",
       "      <td>84029G</td>\n",
       "      <td>KNITTED UNION FLAG HOT WATER BOTTLE</td>\n",
       "      <td>6</td>\n",
       "      <td>12/1/2010 8:26</td>\n",
       "      <td>3.39</td>\n",
       "      <td>17850.0</td>\n",
       "      <td>United Kingdom</td>\n",
       "    </tr>\n",
       "    <tr>\n",
       "      <th>4</th>\n",
       "      <td>4</td>\n",
       "      <td>536365</td>\n",
       "      <td>84029E</td>\n",
       "      <td>RED WOOLLY HOTTIE WHITE HEART.</td>\n",
       "      <td>6</td>\n",
       "      <td>12/1/2010 8:26</td>\n",
       "      <td>3.39</td>\n",
       "      <td>17850.0</td>\n",
       "      <td>United Kingdom</td>\n",
       "    </tr>\n",
       "  </tbody>\n",
       "</table>\n",
       "</div>"
      ],
      "text/plain": [
       "   index InvoiceNo StockCode                          Description  Quantity  \\\n",
       "0      0    536365    85123A   WHITE HANGING HEART T-LIGHT HOLDER         6   \n",
       "1      1    536365     71053                  WHITE METAL LANTERN         6   \n",
       "2      2    536365    84406B       CREAM CUPID HEARTS COAT HANGER         8   \n",
       "3      3    536365    84029G  KNITTED UNION FLAG HOT WATER BOTTLE         6   \n",
       "4      4    536365    84029E       RED WOOLLY HOTTIE WHITE HEART.         6   \n",
       "\n",
       "      InvoiceDate  UnitPrice  CustomerID         Country  \n",
       "0  12/1/2010 8:26       2.55     17850.0  United Kingdom  \n",
       "1  12/1/2010 8:26       3.39     17850.0  United Kingdom  \n",
       "2  12/1/2010 8:26       2.75     17850.0  United Kingdom  \n",
       "3  12/1/2010 8:26       3.39     17850.0  United Kingdom  \n",
       "4  12/1/2010 8:26       3.39     17850.0  United Kingdom  "
      ]
     },
     "execution_count": 8,
     "metadata": {},
     "output_type": "execute_result"
    }
   ],
   "source": [
    "online_retail.head()"
   ]
  },
  {
   "cell_type": "code",
   "execution_count": 9,
   "id": "f66553ce",
   "metadata": {
    "execution": {
     "iopub.execute_input": "2024-01-13T13:50:25.277196Z",
     "iopub.status.busy": "2024-01-13T13:50:25.276135Z",
     "iopub.status.idle": "2024-01-13T13:50:25.319760Z",
     "shell.execute_reply": "2024-01-13T13:50:25.318642Z"
    },
    "papermill": {
     "duration": 0.057331,
     "end_time": "2024-01-13T13:50:25.323111",
     "exception": false,
     "start_time": "2024-01-13T13:50:25.265780",
     "status": "completed"
    },
    "tags": []
   },
   "outputs": [
    {
     "data": {
      "text/plain": [
       "array(['United Kingdom', 'France', 'Australia', 'Netherlands', 'Germany',\n",
       "       'Norway', 'EIRE', 'Switzerland', 'Spain', 'Poland', 'Portugal',\n",
       "       'Italy', 'Belgium', 'Lithuania', 'Japan', 'Iceland',\n",
       "       'Channel Islands', 'Denmark', 'Cyprus', 'Sweden', 'Austria',\n",
       "       'Israel', 'Finland', 'Greece', 'Singapore', 'Lebanon',\n",
       "       'United Arab Emirates', 'Saudi Arabia', 'Czech Republic', 'Canada',\n",
       "       'Unspecified', 'Brazil', 'USA', 'European Community', 'Bahrain',\n",
       "       'Malta', 'RSA'], dtype=object)"
      ]
     },
     "execution_count": 9,
     "metadata": {},
     "output_type": "execute_result"
    }
   ],
   "source": [
    "online_retail['Country'].unique()"
   ]
  },
  {
   "cell_type": "code",
   "execution_count": 10,
   "id": "3f3781fb",
   "metadata": {
    "execution": {
     "iopub.execute_input": "2024-01-13T13:50:25.345924Z",
     "iopub.status.busy": "2024-01-13T13:50:25.345301Z",
     "iopub.status.idle": "2024-01-13T13:50:25.744591Z",
     "shell.execute_reply": "2024-01-13T13:50:25.743344Z"
    },
    "papermill": {
     "duration": 0.413402,
     "end_time": "2024-01-13T13:50:25.747532",
     "exception": false,
     "start_time": "2024-01-13T13:50:25.334130",
     "status": "completed"
    },
    "tags": []
   },
   "outputs": [],
   "source": [
    "online_retail['InvoiceDate'] = pd.to_datetime(online_retail['InvoiceDate'], format='%m/%d/%Y %H:%M').dt.date"
   ]
  },
  {
   "cell_type": "code",
   "execution_count": 11,
   "id": "6983476f",
   "metadata": {
    "execution": {
     "iopub.execute_input": "2024-01-13T13:50:25.768439Z",
     "iopub.status.busy": "2024-01-13T13:50:25.767974Z",
     "iopub.status.idle": "2024-01-13T13:50:25.776995Z",
     "shell.execute_reply": "2024-01-13T13:50:25.775789Z"
    },
    "papermill": {
     "duration": 0.023016,
     "end_time": "2024-01-13T13:50:25.779798",
     "exception": false,
     "start_time": "2024-01-13T13:50:25.756782",
     "status": "completed"
    },
    "tags": []
   },
   "outputs": [],
   "source": [
    "online_retail['Sales'] = online_retail['Quantity'] * online_retail['UnitPrice']"
   ]
  },
  {
   "cell_type": "code",
   "execution_count": 12,
   "id": "1e413d6b",
   "metadata": {
    "execution": {
     "iopub.execute_input": "2024-01-13T13:50:25.800475Z",
     "iopub.status.busy": "2024-01-13T13:50:25.800005Z",
     "iopub.status.idle": "2024-01-13T13:50:25.818296Z",
     "shell.execute_reply": "2024-01-13T13:50:25.817135Z"
    },
    "papermill": {
     "duration": 0.031393,
     "end_time": "2024-01-13T13:50:25.820815",
     "exception": false,
     "start_time": "2024-01-13T13:50:25.789422",
     "status": "completed"
    },
    "tags": []
   },
   "outputs": [
    {
     "data": {
      "text/html": [
       "<div>\n",
       "<style scoped>\n",
       "    .dataframe tbody tr th:only-of-type {\n",
       "        vertical-align: middle;\n",
       "    }\n",
       "\n",
       "    .dataframe tbody tr th {\n",
       "        vertical-align: top;\n",
       "    }\n",
       "\n",
       "    .dataframe thead th {\n",
       "        text-align: right;\n",
       "    }\n",
       "</style>\n",
       "<table border=\"1\" class=\"dataframe\">\n",
       "  <thead>\n",
       "    <tr style=\"text-align: right;\">\n",
       "      <th></th>\n",
       "      <th>index</th>\n",
       "      <th>InvoiceNo</th>\n",
       "      <th>StockCode</th>\n",
       "      <th>Description</th>\n",
       "      <th>Quantity</th>\n",
       "      <th>InvoiceDate</th>\n",
       "      <th>UnitPrice</th>\n",
       "      <th>CustomerID</th>\n",
       "      <th>Country</th>\n",
       "      <th>Sales</th>\n",
       "    </tr>\n",
       "  </thead>\n",
       "  <tbody>\n",
       "    <tr>\n",
       "      <th>0</th>\n",
       "      <td>0</td>\n",
       "      <td>536365</td>\n",
       "      <td>85123A</td>\n",
       "      <td>WHITE HANGING HEART T-LIGHT HOLDER</td>\n",
       "      <td>6</td>\n",
       "      <td>2010-12-01</td>\n",
       "      <td>2.55</td>\n",
       "      <td>17850.0</td>\n",
       "      <td>United Kingdom</td>\n",
       "      <td>15.30</td>\n",
       "    </tr>\n",
       "    <tr>\n",
       "      <th>1</th>\n",
       "      <td>1</td>\n",
       "      <td>536365</td>\n",
       "      <td>71053</td>\n",
       "      <td>WHITE METAL LANTERN</td>\n",
       "      <td>6</td>\n",
       "      <td>2010-12-01</td>\n",
       "      <td>3.39</td>\n",
       "      <td>17850.0</td>\n",
       "      <td>United Kingdom</td>\n",
       "      <td>20.34</td>\n",
       "    </tr>\n",
       "    <tr>\n",
       "      <th>2</th>\n",
       "      <td>2</td>\n",
       "      <td>536365</td>\n",
       "      <td>84406B</td>\n",
       "      <td>CREAM CUPID HEARTS COAT HANGER</td>\n",
       "      <td>8</td>\n",
       "      <td>2010-12-01</td>\n",
       "      <td>2.75</td>\n",
       "      <td>17850.0</td>\n",
       "      <td>United Kingdom</td>\n",
       "      <td>22.00</td>\n",
       "    </tr>\n",
       "    <tr>\n",
       "      <th>3</th>\n",
       "      <td>3</td>\n",
       "      <td>536365</td>\n",
       "      <td>84029G</td>\n",
       "      <td>KNITTED UNION FLAG HOT WATER BOTTLE</td>\n",
       "      <td>6</td>\n",
       "      <td>2010-12-01</td>\n",
       "      <td>3.39</td>\n",
       "      <td>17850.0</td>\n",
       "      <td>United Kingdom</td>\n",
       "      <td>20.34</td>\n",
       "    </tr>\n",
       "    <tr>\n",
       "      <th>4</th>\n",
       "      <td>4</td>\n",
       "      <td>536365</td>\n",
       "      <td>84029E</td>\n",
       "      <td>RED WOOLLY HOTTIE WHITE HEART.</td>\n",
       "      <td>6</td>\n",
       "      <td>2010-12-01</td>\n",
       "      <td>3.39</td>\n",
       "      <td>17850.0</td>\n",
       "      <td>United Kingdom</td>\n",
       "      <td>20.34</td>\n",
       "    </tr>\n",
       "  </tbody>\n",
       "</table>\n",
       "</div>"
      ],
      "text/plain": [
       "   index InvoiceNo StockCode                          Description  Quantity  \\\n",
       "0      0    536365    85123A   WHITE HANGING HEART T-LIGHT HOLDER         6   \n",
       "1      1    536365     71053                  WHITE METAL LANTERN         6   \n",
       "2      2    536365    84406B       CREAM CUPID HEARTS COAT HANGER         8   \n",
       "3      3    536365    84029G  KNITTED UNION FLAG HOT WATER BOTTLE         6   \n",
       "4      4    536365    84029E       RED WOOLLY HOTTIE WHITE HEART.         6   \n",
       "\n",
       "  InvoiceDate  UnitPrice  CustomerID         Country  Sales  \n",
       "0  2010-12-01       2.55     17850.0  United Kingdom  15.30  \n",
       "1  2010-12-01       3.39     17850.0  United Kingdom  20.34  \n",
       "2  2010-12-01       2.75     17850.0  United Kingdom  22.00  \n",
       "3  2010-12-01       3.39     17850.0  United Kingdom  20.34  \n",
       "4  2010-12-01       3.39     17850.0  United Kingdom  20.34  "
      ]
     },
     "execution_count": 12,
     "metadata": {},
     "output_type": "execute_result"
    }
   ],
   "source": [
    "online_retail.head()"
   ]
  },
  {
   "cell_type": "code",
   "execution_count": 13,
   "id": "e5a5be8f",
   "metadata": {
    "execution": {
     "iopub.execute_input": "2024-01-13T13:50:25.841929Z",
     "iopub.status.busy": "2024-01-13T13:50:25.841152Z",
     "iopub.status.idle": "2024-01-13T13:50:30.788292Z",
     "shell.execute_reply": "2024-01-13T13:50:30.787140Z"
    },
    "papermill": {
     "duration": 4.960768,
     "end_time": "2024-01-13T13:50:30.790983",
     "exception": false,
     "start_time": "2024-01-13T13:50:25.830215",
     "status": "completed"
    },
    "tags": []
   },
   "outputs": [],
   "source": [
    "online_retail.to_csv('online_retail.csv')"
   ]
  },
  {
   "cell_type": "code",
   "execution_count": 14,
   "id": "0373e020",
   "metadata": {
    "execution": {
     "iopub.execute_input": "2024-01-13T13:50:30.814287Z",
     "iopub.status.busy": "2024-01-13T13:50:30.813871Z",
     "iopub.status.idle": "2024-01-13T13:50:30.862868Z",
     "shell.execute_reply": "2024-01-13T13:50:30.861846Z"
    },
    "papermill": {
     "duration": 0.064406,
     "end_time": "2024-01-13T13:50:30.865632",
     "exception": false,
     "start_time": "2024-01-13T13:50:30.801226",
     "status": "completed"
    },
    "tags": []
   },
   "outputs": [],
   "source": [
    "top_sales_country = online_retail.groupby('Country')['Sales'].sum()"
   ]
  },
  {
   "cell_type": "code",
   "execution_count": 15,
   "id": "bef612dc",
   "metadata": {
    "execution": {
     "iopub.execute_input": "2024-01-13T13:50:30.886468Z",
     "iopub.status.busy": "2024-01-13T13:50:30.886043Z",
     "iopub.status.idle": "2024-01-13T13:50:30.893107Z",
     "shell.execute_reply": "2024-01-13T13:50:30.892004Z"
    },
    "papermill": {
     "duration": 0.020468,
     "end_time": "2024-01-13T13:50:30.895621",
     "exception": false,
     "start_time": "2024-01-13T13:50:30.875153",
     "status": "completed"
    },
    "tags": []
   },
   "outputs": [
    {
     "data": {
      "text/plain": [
       "pandas.core.series.Series"
      ]
     },
     "execution_count": 15,
     "metadata": {},
     "output_type": "execute_result"
    }
   ],
   "source": [
    "type(top_sales_country)"
   ]
  },
  {
   "cell_type": "code",
   "execution_count": 16,
   "id": "bc905b13",
   "metadata": {
    "execution": {
     "iopub.execute_input": "2024-01-13T13:50:30.917934Z",
     "iopub.status.busy": "2024-01-13T13:50:30.916991Z",
     "iopub.status.idle": "2024-01-13T13:50:30.923558Z",
     "shell.execute_reply": "2024-01-13T13:50:30.922445Z"
    },
    "papermill": {
     "duration": 0.020155,
     "end_time": "2024-01-13T13:50:30.926157",
     "exception": false,
     "start_time": "2024-01-13T13:50:30.906002",
     "status": "completed"
    },
    "tags": []
   },
   "outputs": [],
   "source": [
    "top_sales_country = pd.DataFrame({'Country': top_sales_country.index, 'Totalsales': top_sales_country.values})"
   ]
  },
  {
   "cell_type": "code",
   "execution_count": 17,
   "id": "64cb81f9",
   "metadata": {
    "execution": {
     "iopub.execute_input": "2024-01-13T13:50:30.947437Z",
     "iopub.status.busy": "2024-01-13T13:50:30.946997Z",
     "iopub.status.idle": "2024-01-13T13:50:30.958722Z",
     "shell.execute_reply": "2024-01-13T13:50:30.957937Z"
    },
    "papermill": {
     "duration": 0.025502,
     "end_time": "2024-01-13T13:50:30.961363",
     "exception": false,
     "start_time": "2024-01-13T13:50:30.935861",
     "status": "completed"
    },
    "tags": []
   },
   "outputs": [
    {
     "name": "stdout",
     "output_type": "stream",
     "text": [
      "<class 'pandas.core.frame.DataFrame'>\n",
      "RangeIndex: 37 entries, 0 to 36\n",
      "Data columns (total 2 columns):\n",
      " #   Column      Non-Null Count  Dtype  \n",
      "---  ------      --------------  -----  \n",
      " 0   Country     37 non-null     object \n",
      " 1   Totalsales  37 non-null     float64\n",
      "dtypes: float64(1), object(1)\n",
      "memory usage: 720.0+ bytes\n"
     ]
    }
   ],
   "source": [
    "top_sales_country.info()"
   ]
  },
  {
   "cell_type": "code",
   "execution_count": 18,
   "id": "be0ba6a6",
   "metadata": {
    "execution": {
     "iopub.execute_input": "2024-01-13T13:50:30.983313Z",
     "iopub.status.busy": "2024-01-13T13:50:30.982218Z",
     "iopub.status.idle": "2024-01-13T13:50:30.987611Z",
     "shell.execute_reply": "2024-01-13T13:50:30.986866Z"
    },
    "papermill": {
     "duration": 0.018293,
     "end_time": "2024-01-13T13:50:30.989604",
     "exception": false,
     "start_time": "2024-01-13T13:50:30.971311",
     "status": "completed"
    },
    "tags": []
   },
   "outputs": [],
   "source": [
    "top_sales_country = top_sales_country.sort_values(by='Totalsales', ascending=False)"
   ]
  },
  {
   "cell_type": "code",
   "execution_count": 19,
   "id": "baf42558",
   "metadata": {
    "execution": {
     "iopub.execute_input": "2024-01-13T13:50:31.011239Z",
     "iopub.status.busy": "2024-01-13T13:50:31.010506Z",
     "iopub.status.idle": "2024-01-13T13:50:31.015240Z",
     "shell.execute_reply": "2024-01-13T13:50:31.014344Z"
    },
    "papermill": {
     "duration": 0.018139,
     "end_time": "2024-01-13T13:50:31.017505",
     "exception": false,
     "start_time": "2024-01-13T13:50:30.999366",
     "status": "completed"
    },
    "tags": []
   },
   "outputs": [],
   "source": [
    "top_sales_country = top_sales_country.reset_index(drop=True)"
   ]
  },
  {
   "cell_type": "code",
   "execution_count": 20,
   "id": "46f13a22",
   "metadata": {
    "execution": {
     "iopub.execute_input": "2024-01-13T13:50:31.039663Z",
     "iopub.status.busy": "2024-01-13T13:50:31.038554Z",
     "iopub.status.idle": "2024-01-13T13:50:31.050759Z",
     "shell.execute_reply": "2024-01-13T13:50:31.049829Z"
    },
    "papermill": {
     "duration": 0.025888,
     "end_time": "2024-01-13T13:50:31.053283",
     "exception": false,
     "start_time": "2024-01-13T13:50:31.027395",
     "status": "completed"
    },
    "tags": []
   },
   "outputs": [
    {
     "data": {
      "text/html": [
       "<div>\n",
       "<style scoped>\n",
       "    .dataframe tbody tr th:only-of-type {\n",
       "        vertical-align: middle;\n",
       "    }\n",
       "\n",
       "    .dataframe tbody tr th {\n",
       "        vertical-align: top;\n",
       "    }\n",
       "\n",
       "    .dataframe thead th {\n",
       "        text-align: right;\n",
       "    }\n",
       "</style>\n",
       "<table border=\"1\" class=\"dataframe\">\n",
       "  <thead>\n",
       "    <tr style=\"text-align: right;\">\n",
       "      <th></th>\n",
       "      <th>Country</th>\n",
       "      <th>Totalsales</th>\n",
       "    </tr>\n",
       "  </thead>\n",
       "  <tbody>\n",
       "    <tr>\n",
       "      <th>0</th>\n",
       "      <td>United Kingdom</td>\n",
       "      <td>6767873.394</td>\n",
       "    </tr>\n",
       "    <tr>\n",
       "      <th>1</th>\n",
       "      <td>Netherlands</td>\n",
       "      <td>284661.540</td>\n",
       "    </tr>\n",
       "    <tr>\n",
       "      <th>2</th>\n",
       "      <td>EIRE</td>\n",
       "      <td>250285.220</td>\n",
       "    </tr>\n",
       "    <tr>\n",
       "      <th>3</th>\n",
       "      <td>Germany</td>\n",
       "      <td>221698.210</td>\n",
       "    </tr>\n",
       "    <tr>\n",
       "      <th>4</th>\n",
       "      <td>France</td>\n",
       "      <td>196712.840</td>\n",
       "    </tr>\n",
       "  </tbody>\n",
       "</table>\n",
       "</div>"
      ],
      "text/plain": [
       "          Country   Totalsales\n",
       "0  United Kingdom  6767873.394\n",
       "1     Netherlands   284661.540\n",
       "2            EIRE   250285.220\n",
       "3         Germany   221698.210\n",
       "4          France   196712.840"
      ]
     },
     "execution_count": 20,
     "metadata": {},
     "output_type": "execute_result"
    }
   ],
   "source": [
    "top_sales_country.head()"
   ]
  },
  {
   "cell_type": "code",
   "execution_count": 21,
   "id": "aedc047d",
   "metadata": {
    "execution": {
     "iopub.execute_input": "2024-01-13T13:50:31.076201Z",
     "iopub.status.busy": "2024-01-13T13:50:31.075757Z",
     "iopub.status.idle": "2024-01-13T13:50:31.785092Z",
     "shell.execute_reply": "2024-01-13T13:50:31.783936Z"
    },
    "papermill": {
     "duration": 0.724409,
     "end_time": "2024-01-13T13:50:31.787929",
     "exception": false,
     "start_time": "2024-01-13T13:50:31.063520",
     "status": "completed"
    },
    "tags": []
   },
   "outputs": [
    {
     "data": {
      "image/png": "[encoded data removed]",
      "text/plain": [
       "<Figure size 640x480 with 1 Axes>"
      ]
     },
     "metadata": {},
     "output_type": "display_data"
    }
   ],
   "source": [
    "top_10_sales = top_sales_country.head(10)\n",
    "sns.barplot(data= top_10_sales, x = 'Country', y = 'Totalsales', log=True)\n",
    "plt.title(\"Top 10 Countries with Highest Total Sales\")\n",
    "plt.xlabel(\"Country\")\n",
    "plt.ylabel(\"Total Sales\")\n",
    "plt.xticks(rotation=30)\n",
    "plt.show()"
   ]
  },
  {
   "cell_type": "code",
   "execution_count": 22,
   "id": "b0b1181b",
   "metadata": {
    "execution": {
     "iopub.execute_input": "2024-01-13T13:50:31.812624Z",
     "iopub.status.busy": "2024-01-13T13:50:31.811572Z",
     "iopub.status.idle": "2024-01-13T13:50:31.920274Z",
     "shell.execute_reply": "2024-01-13T13:50:31.919266Z"
    },
    "papermill": {
     "duration": 0.12445,
     "end_time": "2024-01-13T13:50:31.923102",
     "exception": false,
     "start_time": "2024-01-13T13:50:31.798652",
     "status": "completed"
    },
    "tags": []
   },
   "outputs": [],
   "source": [
    "top_sales_date = online_retail.groupby('InvoiceDate')['Sales'].sum()"
   ]
  },
  {
   "cell_type": "code",
   "execution_count": 23,
   "id": "1aac9d6e",
   "metadata": {
    "execution": {
     "iopub.execute_input": "2024-01-13T13:50:31.947543Z",
     "iopub.status.busy": "2024-01-13T13:50:31.946560Z",
     "iopub.status.idle": "2024-01-13T13:50:31.952622Z",
     "shell.execute_reply": "2024-01-13T13:50:31.951568Z"
    },
    "papermill": {
     "duration": 0.020495,
     "end_time": "2024-01-13T13:50:31.954955",
     "exception": false,
     "start_time": "2024-01-13T13:50:31.934460",
     "status": "completed"
    },
    "tags": []
   },
   "outputs": [],
   "source": [
    "top_sales_date = pd.DataFrame({'InvoiceDate': top_sales_date.index, 'Totalsales': top_sales_date.values})"
   ]
  },
  {
   "cell_type": "code",
   "execution_count": 24,
   "id": "20e5c959",
   "metadata": {
    "execution": {
     "iopub.execute_input": "2024-01-13T13:50:31.978722Z",
     "iopub.status.busy": "2024-01-13T13:50:31.977600Z",
     "iopub.status.idle": "2024-01-13T13:50:32.400126Z",
     "shell.execute_reply": "2024-01-13T13:50:32.398918Z"
    },
    "papermill": {
     "duration": 0.437414,
     "end_time": "2024-01-13T13:50:32.403136",
     "exception": false,
     "start_time": "2024-01-13T13:50:31.965722",
     "status": "completed"
    },
    "tags": []
   },
   "outputs": [
    {
     "data": {
      "text/plain": [
       "Text(0, 0.5, 'Total Sales')"
      ]
     },
     "execution_count": 24,
     "metadata": {},
     "output_type": "execute_result"
    },
    {
     "data": {
      "image/png": "[encoded data removed]",
      "text/plain": [
       "<Figure size 640x480 with 1 Axes>"
      ]
     },
     "metadata": {},
     "output_type": "display_data"
    }
   ],
   "source": [
    "# Plotting the timeseries graph of given dataset\n",
    "plt.plot(top_sales_date['InvoiceDate'], top_sales_date['Totalsales'])\n",
    " \n",
    "# Giving title to the graph\n",
    "plt.title('Total Sales in a Day')\n",
    " \n",
    "# rotating the x-axis tick labels at 30degree \n",
    "# towards right\n",
    "plt.xticks(rotation=30)\n",
    " \n",
    "# Giving x and y label to the graph\n",
    "plt.xlabel('Date')\n",
    "plt.ylabel('Total Sales')"
   ]
  }
 ],
 "metadata": {
  "kaggle": {
   "accelerator": "none",
   "dataSources": [
    {
     "datasetId": 4201350,
     "sourceId": 7251336,
     "sourceType": "datasetVersion"
    }
   ],
   "dockerImageVersionId": 30635,
   "isGpuEnabled": false,
   "isInternetEnabled": true,
   "language": "python",
   "sourceType": "notebook"
  },
  "kernelspec": {
   "display_name": "Python 3",
   "language": "python",
   "name": "python3"
  },
  "language_info": {
   "codemirror_mode": {
    "name": "ipython",
    "version": 3
   },
   "file_extension": ".py",
   "mimetype": "text/x-python",
   "name": "python",
   "nbconvert_exporter": "python",
   "pygments_lexer": "ipython3",
   "version": "3.10.12"
  },
  "papermill": {
   "default_parameters": {},
   "duration": 16.005553,
   "end_time": "2024-01-13T13:50:33.139187",
   "environment_variables": {},
   "exception": null,
   "input_path": "__notebook__.ipynb",
   "output_path": "__notebook__.ipynb",
   "parameters": {},
   "start_time": "2024-01-13T13:50:17.133634",
   "version": "2.4.0"
  }
 },
 "nbformat": 4,
 "nbformat_minor": 5
}
